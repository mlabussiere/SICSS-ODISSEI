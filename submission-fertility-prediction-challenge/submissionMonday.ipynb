{
 "cells": [
  {
   "cell_type": "code",
   "execution_count": 1,
   "id": "6b540040",
   "metadata": {},
   "outputs": [
    {
     "data": {
      "text/plain": [
       "'C:\\\\Users\\\\mlabuss\\\\OneDrive - UvA\\\\CAREER\\\\SICSS_Odissei\\\\SICSS-ODISSEI\\\\fertility-prediction-challenge'"
      ]
     },
     "execution_count": 1,
     "metadata": {},
     "output_type": "execute_result"
    }
   ],
   "source": [
    "# Classifier imports\n",
    "from sklearn.model_selection import GridSearchCV, train_test_split\n",
    "from sklearn.preprocessing import OneHotEncoder, StandardScaler\n",
    "from sklearn.linear_model import LogisticRegression\n",
    "from sklearn.pipeline import Pipeline\n",
    "from sklearn.impute import SimpleImputer\n",
    "from sklearn.compose import ColumnTransformer\n",
    "from sklearn.compose import make_column_selector as selector\n",
    "from sklearn.metrics import classification_report\n",
    "from sklearn.metrics import RocCurveDisplay\n",
    "\n",
    "\n",
    "import pandas as pd\n",
    "import numpy as np\n",
    "\n",
    "from joblib import dump, load\n",
    "\n",
    "import os\n",
    "os.getcwd()"
   ]
  },
  {
   "cell_type": "markdown",
   "id": "cfb25f80",
   "metadata": {},
   "source": [
    "# 1. Read data"
   ]
  },
  {
   "cell_type": "code",
   "execution_count": 2,
   "id": "28080658",
   "metadata": {},
   "outputs": [],
   "source": [
    "# Import paths\n",
    "path_train = \"./data/LISS_example_input_data.csv\"\n",
    "path_outcome = \"./data/LISS_example_groundtruth_data.csv\"\n"
   ]
  },
  {
   "cell_type": "code",
   "execution_count": 5,
   "id": "89d6d113",
   "metadata": {
    "scrolled": true
   },
   "outputs": [],
   "source": [
    "# Read data\n",
    "original_data = pd.read_csv(path_train, encoding=\"cp1252\", low_memory=False)\n",
    "outcome = pd.read_csv(path_outcome, encoding=\"cp1252\", low_memory=False)"
   ]
  },
  {
   "cell_type": "markdown",
   "id": "c7e8e4e3",
   "metadata": {},
   "source": [
    "## Feature selection"
   ]
  },
  {
   "cell_type": "code",
   "execution_count": 20,
   "id": "a6466ef8",
   "metadata": {},
   "outputs": [
    {
     "data": {
      "text/plain": [
       "['cf19l401']"
      ]
     },
     "execution_count": 20,
     "metadata": {},
     "output_type": "execute_result"
    }
   ],
   "source": [
    "#original_data.loc[:,['leeftijd2019']]\n",
    "\n",
    "#filter_col = [col for col in original_data if col.startswith('cf19l401')]\n",
    "#filter_col"
   ]
  },
  {
   "cell_type": "code",
   "execution_count": 6,
   "id": "b677072f",
   "metadata": {},
   "outputs": [
    {
     "data": {
      "text/plain": [
       "(9459, 53)"
      ]
     },
     "execution_count": 6,
     "metadata": {},
     "output_type": "execute_result"
    }
   ],
   "source": [
    "keepcols = [\n",
    "    # Background characteristics\n",
    "          'leeftijd2019',\n",
    "          'geslacht',\n",
    "          'positie2019',\n",
    "          'aantalhh2019',\n",
    "          'aantalki2019',\n",
    "          'partner2019',\n",
    "          'burgstat2019',\n",
    "          'woonvorm2019',\n",
    "          'woning2019',\n",
    "          'sted2019',\n",
    "          'belbezig2019',\n",
    "          'brutoink2019',\n",
    "          'brutoink_f2019',\n",
    "          'netinc2019',\n",
    "          'brutohh_f2019',\n",
    "          'nettohh_f2019',\n",
    "          'oplzon2019',\n",
    "          'oplmet2019',\n",
    "          'doetmee2019',\n",
    "          'herkomstgroep2019',\n",
    "          'simpc2019',\n",
    "          \n",
    "    # Family\n",
    "          'cf19l401', # relationship with family\n",
    "          'cf19l432', # whether your parents are still together\n",
    "          'cf19l032', # gender of partner \n",
    "          'cf19l454', # have any children\n",
    "          'cf19l455', # number of living children\n",
    "          'cf19l068', # gender of children\n",
    "          'cf19l069',                          \n",
    "          'cf19l070',\n",
    "          'cf19l071',\n",
    "          'cf19l456', # age of children \n",
    "          'cf19l457',\n",
    "          'cf19l458',\n",
    "          'cf19l459',\n",
    "          'cf19l129', # how many children in the future\n",
    "          'cf19l130', # Within how many years do you hope to have your\n",
    "          'cf19l408', # attitude towards not having kids                         \n",
    "          'cf19l483', # gender household division\n",
    "          'cf19l484',                         \n",
    "          'cf19l485',                       \n",
    "          'cf19l486',\n",
    "          'cf19l487',\n",
    "          'cf19l488',\n",
    "    \n",
    "    # Work\n",
    "          'cw19l001', # Does respondent have paid work?\n",
    "          'cw19l006', # What then is the highest level of education that you have completed with diploma or certificate?\n",
    "          'cw19l008', # the highest level of education that you have attended\n",
    "          'ci19l252', # How would you describe the financial situation of your household at this moment?\n",
    "          'ci19l339',  #What was total net income of your household over the period from 1 January 2018 to 31 December 2018?\n",
    "          'cd19l034', # How many rooms does your dwelling contain?\n",
    "    \n",
    "    # Health & religion\n",
    "          'ch19l085', #  diabitis\n",
    "          'ch19l004', # self rated health\n",
    "          'cr19l042', # pray\n",
    "          'cr19l143' # religous affiliation\n",
    "                                     ]\n",
    "data_selection = original_data.loc[:,keepcols]\n",
    "data_selection.shape"
   ]
  },
  {
   "cell_type": "code",
   "execution_count": 5,
   "id": "b1ef3c72",
   "metadata": {},
   "outputs": [
    {
     "data": {
      "text/plain": [
       "NaN    8557\n",
       "0.0     753\n",
       "1.0     149\n",
       "Name: new_child, dtype: int64"
      ]
     },
     "execution_count": 5,
     "metadata": {},
     "output_type": "execute_result"
    }
   ],
   "source": [
    "#outcome['new_child'].value_counts(dropna=False)"
   ]
  },
  {
   "cell_type": "code",
   "execution_count": 7,
   "id": "d850f6f2",
   "metadata": {},
   "outputs": [
    {
     "name": "stdout",
     "output_type": "stream",
     "text": [
      "(902, 53) (902, 2)\n"
     ]
    }
   ],
   "source": [
    "# Drop observations where the outcome is missing\n",
    "y_isna = outcome['new_child'].isnull()\n",
    "data = data_selection.loc[~y_isna]\n",
    "outcome = outcome.loc[~y_isna]\n",
    "\n",
    "print(data.shape, outcome.shape)"
   ]
  },
  {
   "cell_type": "markdown",
   "id": "1ad05da5",
   "metadata": {},
   "source": [
    "## Feature missing values"
   ]
  },
  {
   "cell_type": "code",
   "execution_count": 8,
   "id": "5b7aaf7a",
   "metadata": {},
   "outputs": [
    {
     "data": {
      "text/plain": [
       "(902, 28)"
      ]
     },
     "execution_count": 8,
     "metadata": {},
     "output_type": "execute_result"
    }
   ],
   "source": [
    "data_wmiss = data.dropna(axis=1, thresh=0.7*len(data))\n",
    "data_wmiss.shape\n",
    "#listdata_wmiss.columns.to_list()"
   ]
  },
  {
   "cell_type": "markdown",
   "id": "c9818ff5",
   "metadata": {},
   "source": [
    "# 2. Split data into train and test\n",
    "First thing always, otherwise you risk overfitting"
   ]
  },
  {
   "cell_type": "code",
   "execution_count": 9,
   "id": "3e9a7178",
   "metadata": {},
   "outputs": [],
   "source": [
    "# Select predictors: education, year of birth, gender, number of children in the household \n",
    "# You can do this automatically (not necessarily better): https://scikit-learn.org/stable/modules/feature_selection.html\n",
    "\n",
    "X_train, X_test, y_train, y_test = train_test_split(data_wmiss,\n",
    "                                                    outcome,\n",
    "                                                    test_size=0.2, random_state=2023)\n",
    "y_train = y_train[\"new_child\"]\n",
    "y_test = y_test[\"new_child\"]"
   ]
  },
  {
   "cell_type": "markdown",
   "id": "96cc5775",
   "metadata": {},
   "source": [
    "# 3. Pre-process and model\n",
    "You may not want to include the preprocessing in the pipeline if it becomes too cumbersome\n",
    "\n",
    "Make sure to use the scoring that you want to optimize in the search space"
   ]
  },
  {
   "cell_type": "code",
   "execution_count": 10,
   "id": "f8a38d84",
   "metadata": {},
   "outputs": [],
   "source": [
    "#X_train.dtypes"
   ]
  },
  {
   "cell_type": "code",
   "execution_count": 11,
   "id": "c485393c",
   "metadata": {},
   "outputs": [
    {
     "name": "stdout",
     "output_type": "stream",
     "text": [
      "['leeftijd2019', 'brutoink_f2019', 'netinc2019', 'brutohh_f2019', 'nettohh_f2019', 'cf19l432', 'cf19l454', 'cw19l001', 'cw19l008', 'ch19l085', 'ch19l004', 'cr19l042', 'cr19l143']\n",
      "['geslacht', 'positie2019', 'aantalhh2019', 'aantalki2019', 'partner2019', 'burgstat2019', 'woonvorm2019', 'woning2019', 'sted2019', 'belbezig2019', 'oplzon2019', 'oplmet2019', 'doetmee2019', 'herkomstgroep2019', 'simpc2019']\n"
     ]
    }
   ],
   "source": [
    "from sklearn.compose import make_column_selector as selector\n",
    "\n",
    "categorical_columns_selector = selector(dtype_include = object)\n",
    "categorical_columns = categorical_columns_selector(data_wmiss)\n",
    "\n",
    "numerical_columns_selector = selector(dtype_include = \"float64\")\n",
    "numerical_columns = numerical_columns_selector(data_wmiss)\n",
    "\n",
    "print(numerical_columns)\n",
    "print(categorical_columns)"
   ]
  },
  {
   "cell_type": "code",
   "execution_count": 12,
   "id": "ff5c80aa",
   "metadata": {},
   "outputs": [],
   "source": [
    "# An example of a preprocessing apart from the pipeline\n",
    "#dict_kids = {'None': 0, 'One child': 1, 'Two children': 2, 'Three children': 3, 'Four children': 4, 'Five children': 5, 'Six children': 6}\n",
    "#X_train[\"aantalki2019\"] = X_train[\"aantalki2019\"].map(dict_kids)\n",
    "\n",
    "# Create transformers\n",
    "# Imputer are sometimes not necessary\n",
    "categorical_transformer = Pipeline(steps=[\n",
    "    ('imputer', SimpleImputer(strategy='most_frequent')),\n",
    "    ('encoder', OneHotEncoder(handle_unknown='infrequent_if_exist', min_frequency=50))])\n",
    "\n",
    "numerical_transformer = Pipeline(steps=[\n",
    "    ('imputer', SimpleImputer(strategy=\"mean\")),\n",
    "    ('scaler', StandardScaler())])\n",
    "\n",
    "# Use ColumnTransformer to apply the transformations to the correct columns in the dataframe\n",
    "preprocessor = ColumnTransformer(\n",
    "    transformers=[\n",
    "        ('num', numerical_transformer, selector(dtype_exclude=object)(X_train)),\n",
    "        ('cat', categorical_transformer, selector(dtype_include=object)(X_train))])"
   ]
  },
  {
   "cell_type": "markdown",
   "id": "99c8f22b",
   "metadata": {},
   "source": [
    "## Model 1: logistic regression "
   ]
  },
  {
   "cell_type": "code",
   "execution_count": 13,
   "id": "f2ec0be0",
   "metadata": {},
   "outputs": [],
   "source": [
    "# Create pipeline\n",
    "model_1 = Pipeline([\n",
    "               (\"preprocess\", preprocessor),\n",
    "               (\"classifier\", LogisticRegression(max_iter=500))\n",
    "               ]) \n",
    "                    "
   ]
  },
  {
   "cell_type": "code",
   "execution_count": null,
   "id": "5075f472",
   "metadata": {},
   "outputs": [],
   "source": [
    "# Define the hyperparameters, this can include several classifiers, but will make it slow\n",
    "# You can see different classifiers here: https://scikit-learn.org/stable/supervised_learning.html#supervised-learning\n",
    "parameters = [\n",
    "    {\n",
    "        'classifier': [LogisticRegression(max_iter=500)],\n",
    "        'classifier__C': np.logspace(-3, 3, 50) #regularization coefficient\n",
    "    },\n",
    "    \n",
    "]\n",
    "\n",
    "# Perform hyperparameter tuning using cross-validation: https://scikit-learn.org/stable/modules/classes.html#hyper-parameter-optimizers\n",
    "# Scoring metrics: https://scikit-learn.org/stable/modules/model_evaluation.html\n",
    "# f1 = f1 of the class labeled as 1 (i.e. kids)\n",
    "grid_search = GridSearchCV(model_1, parameters, cv=5, n_jobs=-1, scoring=\"f1\", verbose=9) #n_jobs=-1 allows for multiprocessing\n",
    "grid_search.fit(X_train, y_train)\n",
    "\n",
    "# Keep best model (or define it from scratch with the best coefficients found)\n",
    "best_model_1 = grid_search.best_estimator_\n",
    "\n",
    "best_model_1"
   ]
  },
  {
   "cell_type": "code",
   "execution_count": null,
   "id": "bdde8ec4",
   "metadata": {
    "scrolled": true
   },
   "outputs": [],
   "source": [
    "#Variable names in the data\n",
    "#best_model[\"preprocess\"].get_feature_names_out()"
   ]
  },
  {
   "cell_type": "code",
   "execution_count": null,
   "id": "466e206d",
   "metadata": {
    "scrolled": true
   },
   "outputs": [],
   "source": [
    "model_1.fit(X_train,y_train)\n"
   ]
  },
  {
   "cell_type": "code",
   "execution_count": null,
   "id": "36a387d7",
   "metadata": {},
   "outputs": [],
   "source": [
    "prediction = model_1.predict(X_test)\n",
    "model_1.score(X_test,y_test)"
   ]
  },
  {
   "cell_type": "markdown",
   "id": "56b24ecd",
   "metadata": {},
   "source": [
    "### Cross-validation"
   ]
  },
  {
   "cell_type": "code",
   "execution_count": null,
   "id": "4f9828a1",
   "metadata": {
    "scrolled": true
   },
   "outputs": [],
   "source": [
    "from sklearn.model_selection import cross_validate\n",
    "cross_validate(model_1, X_train, y_train.values.ravel(), cv=5)"
   ]
  },
  {
   "cell_type": "markdown",
   "id": "3c0b1d42",
   "metadata": {},
   "source": [
    "### Best model from GridSearch"
   ]
  },
  {
   "cell_type": "code",
   "execution_count": null,
   "id": "de8fbc78",
   "metadata": {},
   "outputs": [],
   "source": [
    "best_model_1.fit(X_train,y_train)\n",
    "best_prediction = best_model_1.predict(X_test)\n",
    "best_model_1.score(X_test,y_test)"
   ]
  },
  {
   "cell_type": "markdown",
   "id": "cf73e7a3",
   "metadata": {},
   "source": [
    "## Models 2 and 3: Random forests\n",
    "### Simple random forests"
   ]
  },
  {
   "cell_type": "code",
   "execution_count": 20,
   "id": "00a653a1",
   "metadata": {},
   "outputs": [
    {
     "data": {
      "text/plain": [
       "{'fit_time': array([0.29484415, 0.29949164, 0.28100252, 0.28249407, 0.27795196]),\n",
       " 'score_time': array([0.02890182, 0.02592397, 0.02627039, 0.02625346, 0.02483559]),\n",
       " 'test_score': array([0.89189189, 0.83333333, 0.88888889, 0.86111111, 0.83333333])}"
      ]
     },
     "execution_count": 20,
     "metadata": {},
     "output_type": "execute_result"
    }
   ],
   "source": [
    "from sklearn.ensemble import RandomForestClassifier\n",
    "from sklearn.model_selection import cross_validate\n",
    "\n",
    "model_2 = Pipeline([\n",
    "               (\"preprocess\", preprocessor),\n",
    "               (\"classifier\", RandomForestClassifier(n_estimators=100, random_state=456))\n",
    "               ]) \n",
    "\n",
    "cross_validate(model_2, X_test, y_test, cv=5)"
   ]
  },
  {
   "cell_type": "markdown",
   "id": "6fb67317",
   "metadata": {},
   "source": [
    "### Extremely random forests"
   ]
  },
  {
   "cell_type": "code",
   "execution_count": 26,
   "id": "ee040929",
   "metadata": {},
   "outputs": [
    {
     "data": {
      "text/plain": [
       "{'fit_time': array([2.08198428, 2.13250208, 2.03405404, 2.01729941, 2.06727386]),\n",
       " 'score_time': array([0.16081667, 0.1626482 , 0.16189504, 0.16094446, 0.16128445]),\n",
       " 'test_score': array([0.89189189, 0.83333333, 0.91666667, 0.88888889, 0.86111111])}"
      ]
     },
     "execution_count": 26,
     "metadata": {},
     "output_type": "execute_result"
    }
   ],
   "source": [
    "from sklearn.ensemble import ExtraTreesClassifier\n",
    "extra_tree = ExtraTreesClassifier(n_estimators=100, criterion='gini', \n",
    "                           max_depth=None, min_samples_split=2, \n",
    "                           min_samples_leaf=1,  max_features='sqrt', \n",
    "                           bootstrap=False, random_state=345)\n",
    "\n",
    "model_3 = Pipeline([\n",
    "               (\"preprocess\", preprocessor),\n",
    "               (\"classifier\", extra_tree)\n",
    "               ]) \n",
    "\n",
    "cross_validate(model_3, X_test, y_test, cv=5)"
   ]
  },
  {
   "cell_type": "code",
   "execution_count": 42,
   "id": "2038188d",
   "metadata": {},
   "outputs": [],
   "source": [
    "#model_3.get_params()\n",
    "from pprint import pprint\n",
    "pprint(model_3.get_params())"
   ]
  },
  {
   "cell_type": "markdown",
   "id": "7df1048f",
   "metadata": {},
   "source": [
    "'classifier__bootstrap': False,\n",
    " 'classifier__ccp_alpha': 0.0,\n",
    " 'classifier__class_weight': None,\n",
    " 'classifier__criterion': 'gini',\n",
    " 'classifier__max_depth': None,\n",
    " 'classifier__max_features': 'sqrt',\n",
    " 'classifier__max_leaf_nodes': None,\n",
    " 'classifier__max_samples': None,\n",
    " 'classifier__min_impurity_decrease': 0.0,\n",
    " 'classifier__min_samples_leaf': 1,\n",
    " 'classifier__min_samples_split': 2,\n",
    " 'classifier__min_weight_fraction_leaf': 0.0,\n",
    " 'classifier__n_estimators': 1000,\n",
    " 'classifier__n_jobs': None,\n",
    " 'classifier__oob_score': False,\n",
    " 'classifier__random_state': 345,\n",
    " 'classifier__verbose': 0,\n",
    " 'classifier__warm_start': False}"
   ]
  },
  {
   "cell_type": "markdown",
   "id": "e5a4aa5e",
   "metadata": {},
   "source": [
    "**Number of trees in random forest**\n",
    "n_estimators = [int(x) for x in np.linspace(start = 200, stop = 2000, num = 10)]\n",
    "**Number of features to consider at every split**\n",
    "max_features = ['auto', 'sqrt']\n",
    "**Maximum number of levels in tree**\n",
    "max_depth = [int(x) for x in np.linspace(10, 110, num = 11)]\n",
    "max_depth.append(None)\n",
    "**Minimum number of samples required to split a node**\n",
    "min_samples_split = [2, 5, 10]\n",
    "**inimum number of samples required at each leaf node**\n",
    "min_samples_leaf = [1, 2, 4]\n",
    "**Method of selecting samples for training each tree**\n",
    "bootstrap = [True, False]\n",
    "\n",
    "See https://towardsdatascience.com/hyperparameter-tuning-the-random-forest-in-python-using-scikit-learn-28d2aa77dd74"
   ]
  },
  {
   "cell_type": "code",
   "execution_count": 36,
   "id": "a9fe883a",
   "metadata": {},
   "outputs": [
    {
     "name": "stdout",
     "output_type": "stream",
     "text": [
      "None\n"
     ]
    }
   ],
   "source": []
  },
  {
   "cell_type": "code",
   "execution_count": 46,
   "id": "04c13603",
   "metadata": {},
   "outputs": [
    {
     "name": "stdout",
     "output_type": "stream",
     "text": [
      "Fitting 3 folds for each of 2160 candidates, totalling 6480 fits\n"
     ]
    },
    {
     "data": {
      "text/html": [
       "<style>#sk-container-id-2 {color: black;background-color: white;}#sk-container-id-2 pre{padding: 0;}#sk-container-id-2 div.sk-toggleable {background-color: white;}#sk-container-id-2 label.sk-toggleable__label {cursor: pointer;display: block;width: 100%;margin-bottom: 0;padding: 0.3em;box-sizing: border-box;text-align: center;}#sk-container-id-2 label.sk-toggleable__label-arrow:before {content: \"▸\";float: left;margin-right: 0.25em;color: #696969;}#sk-container-id-2 label.sk-toggleable__label-arrow:hover:before {color: black;}#sk-container-id-2 div.sk-estimator:hover label.sk-toggleable__label-arrow:before {color: black;}#sk-container-id-2 div.sk-toggleable__content {max-height: 0;max-width: 0;overflow: hidden;text-align: left;background-color: #f0f8ff;}#sk-container-id-2 div.sk-toggleable__content pre {margin: 0.2em;color: black;border-radius: 0.25em;background-color: #f0f8ff;}#sk-container-id-2 input.sk-toggleable__control:checked~div.sk-toggleable__content {max-height: 200px;max-width: 100%;overflow: auto;}#sk-container-id-2 input.sk-toggleable__control:checked~label.sk-toggleable__label-arrow:before {content: \"▾\";}#sk-container-id-2 div.sk-estimator input.sk-toggleable__control:checked~label.sk-toggleable__label {background-color: #d4ebff;}#sk-container-id-2 div.sk-label input.sk-toggleable__control:checked~label.sk-toggleable__label {background-color: #d4ebff;}#sk-container-id-2 input.sk-hidden--visually {border: 0;clip: rect(1px 1px 1px 1px);clip: rect(1px, 1px, 1px, 1px);height: 1px;margin: -1px;overflow: hidden;padding: 0;position: absolute;width: 1px;}#sk-container-id-2 div.sk-estimator {font-family: monospace;background-color: #f0f8ff;border: 1px dotted black;border-radius: 0.25em;box-sizing: border-box;margin-bottom: 0.5em;}#sk-container-id-2 div.sk-estimator:hover {background-color: #d4ebff;}#sk-container-id-2 div.sk-parallel-item::after {content: \"\";width: 100%;border-bottom: 1px solid gray;flex-grow: 1;}#sk-container-id-2 div.sk-label:hover label.sk-toggleable__label {background-color: #d4ebff;}#sk-container-id-2 div.sk-serial::before {content: \"\";position: absolute;border-left: 1px solid gray;box-sizing: border-box;top: 0;bottom: 0;left: 50%;z-index: 0;}#sk-container-id-2 div.sk-serial {display: flex;flex-direction: column;align-items: center;background-color: white;padding-right: 0.2em;padding-left: 0.2em;position: relative;}#sk-container-id-2 div.sk-item {position: relative;z-index: 1;}#sk-container-id-2 div.sk-parallel {display: flex;align-items: stretch;justify-content: center;background-color: white;position: relative;}#sk-container-id-2 div.sk-item::before, #sk-container-id-2 div.sk-parallel-item::before {content: \"\";position: absolute;border-left: 1px solid gray;box-sizing: border-box;top: 0;bottom: 0;left: 50%;z-index: -1;}#sk-container-id-2 div.sk-parallel-item {display: flex;flex-direction: column;z-index: 1;position: relative;background-color: white;}#sk-container-id-2 div.sk-parallel-item:first-child::after {align-self: flex-end;width: 50%;}#sk-container-id-2 div.sk-parallel-item:last-child::after {align-self: flex-start;width: 50%;}#sk-container-id-2 div.sk-parallel-item:only-child::after {width: 0;}#sk-container-id-2 div.sk-dashed-wrapped {border: 1px dashed gray;margin: 0 0.4em 0.5em 0.4em;box-sizing: border-box;padding-bottom: 0.4em;background-color: white;}#sk-container-id-2 div.sk-label label {font-family: monospace;font-weight: bold;display: inline-block;line-height: 1.2em;}#sk-container-id-2 div.sk-label-container {text-align: center;}#sk-container-id-2 div.sk-container {/* jupyter's `normalize.less` sets `[hidden] { display: none; }` but bootstrap.min.css set `[hidden] { display: none !important; }` so we also need the `!important` here to be able to override the default hidden behavior on the sphinx rendered scikit-learn.org. See: https://github.com/scikit-learn/scikit-learn/issues/21755 */display: inline-block !important;position: relative;}#sk-container-id-2 div.sk-text-repr-fallback {display: none;}</style><div id=\"sk-container-id-2\" class=\"sk-top-container\"><div class=\"sk-text-repr-fallback\"><pre>Pipeline(steps=[(&#x27;preprocess&#x27;,\n",
       "                 ColumnTransformer(transformers=[(&#x27;num&#x27;,\n",
       "                                                  Pipeline(steps=[(&#x27;imputer&#x27;,\n",
       "                                                                   SimpleImputer()),\n",
       "                                                                  (&#x27;scaler&#x27;,\n",
       "                                                                   StandardScaler())]),\n",
       "                                                  [&#x27;leeftijd2019&#x27;,\n",
       "                                                   &#x27;brutoink_f2019&#x27;,\n",
       "                                                   &#x27;netinc2019&#x27;,\n",
       "                                                   &#x27;brutohh_f2019&#x27;,\n",
       "                                                   &#x27;nettohh_f2019&#x27;, &#x27;cf19l432&#x27;,\n",
       "                                                   &#x27;cf19l454&#x27;, &#x27;cw19l001&#x27;,\n",
       "                                                   &#x27;cw19l008&#x27;, &#x27;ch19l085&#x27;,\n",
       "                                                   &#x27;ch19l004&#x27;, &#x27;cr19l042&#x27;,\n",
       "                                                   &#x27;cr19l143&#x27;]),\n",
       "                                                 (&#x27;cat&#x27;,\n",
       "                                                  Pipeline(steps=[(&#x27;imputer&#x27;,\n",
       "                                                                   Simpl...\n",
       "                                                                   OneHotEncoder(handle_unknown=&#x27;infrequent_if_exist&#x27;,\n",
       "                                                                                 min_frequency=50))]),\n",
       "                                                  [&#x27;geslacht&#x27;, &#x27;positie2019&#x27;,\n",
       "                                                   &#x27;aantalhh2019&#x27;,\n",
       "                                                   &#x27;aantalki2019&#x27;,\n",
       "                                                   &#x27;partner2019&#x27;,\n",
       "                                                   &#x27;burgstat2019&#x27;,\n",
       "                                                   &#x27;woonvorm2019&#x27;, &#x27;woning2019&#x27;,\n",
       "                                                   &#x27;sted2019&#x27;, &#x27;belbezig2019&#x27;,\n",
       "                                                   &#x27;oplzon2019&#x27;, &#x27;oplmet2019&#x27;,\n",
       "                                                   &#x27;doetmee2019&#x27;,\n",
       "                                                   &#x27;herkomstgroep2019&#x27;,\n",
       "                                                   &#x27;simpc2019&#x27;])])),\n",
       "                (&#x27;classifier&#x27;,\n",
       "                 ExtraTreesClassifier(max_depth=30, n_estimators=800,\n",
       "                                      random_state=345))])</pre><b>In a Jupyter environment, please rerun this cell to show the HTML representation or trust the notebook. <br />On GitHub, the HTML representation is unable to render, please try loading this page with nbviewer.org.</b></div><div class=\"sk-container\" hidden><div class=\"sk-item sk-dashed-wrapped\"><div class=\"sk-label-container\"><div class=\"sk-label sk-toggleable\"><input class=\"sk-toggleable__control sk-hidden--visually\" id=\"sk-estimator-id-10\" type=\"checkbox\" ><label for=\"sk-estimator-id-10\" class=\"sk-toggleable__label sk-toggleable__label-arrow\">Pipeline</label><div class=\"sk-toggleable__content\"><pre>Pipeline(steps=[(&#x27;preprocess&#x27;,\n",
       "                 ColumnTransformer(transformers=[(&#x27;num&#x27;,\n",
       "                                                  Pipeline(steps=[(&#x27;imputer&#x27;,\n",
       "                                                                   SimpleImputer()),\n",
       "                                                                  (&#x27;scaler&#x27;,\n",
       "                                                                   StandardScaler())]),\n",
       "                                                  [&#x27;leeftijd2019&#x27;,\n",
       "                                                   &#x27;brutoink_f2019&#x27;,\n",
       "                                                   &#x27;netinc2019&#x27;,\n",
       "                                                   &#x27;brutohh_f2019&#x27;,\n",
       "                                                   &#x27;nettohh_f2019&#x27;, &#x27;cf19l432&#x27;,\n",
       "                                                   &#x27;cf19l454&#x27;, &#x27;cw19l001&#x27;,\n",
       "                                                   &#x27;cw19l008&#x27;, &#x27;ch19l085&#x27;,\n",
       "                                                   &#x27;ch19l004&#x27;, &#x27;cr19l042&#x27;,\n",
       "                                                   &#x27;cr19l143&#x27;]),\n",
       "                                                 (&#x27;cat&#x27;,\n",
       "                                                  Pipeline(steps=[(&#x27;imputer&#x27;,\n",
       "                                                                   Simpl...\n",
       "                                                                   OneHotEncoder(handle_unknown=&#x27;infrequent_if_exist&#x27;,\n",
       "                                                                                 min_frequency=50))]),\n",
       "                                                  [&#x27;geslacht&#x27;, &#x27;positie2019&#x27;,\n",
       "                                                   &#x27;aantalhh2019&#x27;,\n",
       "                                                   &#x27;aantalki2019&#x27;,\n",
       "                                                   &#x27;partner2019&#x27;,\n",
       "                                                   &#x27;burgstat2019&#x27;,\n",
       "                                                   &#x27;woonvorm2019&#x27;, &#x27;woning2019&#x27;,\n",
       "                                                   &#x27;sted2019&#x27;, &#x27;belbezig2019&#x27;,\n",
       "                                                   &#x27;oplzon2019&#x27;, &#x27;oplmet2019&#x27;,\n",
       "                                                   &#x27;doetmee2019&#x27;,\n",
       "                                                   &#x27;herkomstgroep2019&#x27;,\n",
       "                                                   &#x27;simpc2019&#x27;])])),\n",
       "                (&#x27;classifier&#x27;,\n",
       "                 ExtraTreesClassifier(max_depth=30, n_estimators=800,\n",
       "                                      random_state=345))])</pre></div></div></div><div class=\"sk-serial\"><div class=\"sk-item sk-dashed-wrapped\"><div class=\"sk-label-container\"><div class=\"sk-label sk-toggleable\"><input class=\"sk-toggleable__control sk-hidden--visually\" id=\"sk-estimator-id-11\" type=\"checkbox\" ><label for=\"sk-estimator-id-11\" class=\"sk-toggleable__label sk-toggleable__label-arrow\">preprocess: ColumnTransformer</label><div class=\"sk-toggleable__content\"><pre>ColumnTransformer(transformers=[(&#x27;num&#x27;,\n",
       "                                 Pipeline(steps=[(&#x27;imputer&#x27;, SimpleImputer()),\n",
       "                                                 (&#x27;scaler&#x27;, StandardScaler())]),\n",
       "                                 [&#x27;leeftijd2019&#x27;, &#x27;brutoink_f2019&#x27;,\n",
       "                                  &#x27;netinc2019&#x27;, &#x27;brutohh_f2019&#x27;,\n",
       "                                  &#x27;nettohh_f2019&#x27;, &#x27;cf19l432&#x27;, &#x27;cf19l454&#x27;,\n",
       "                                  &#x27;cw19l001&#x27;, &#x27;cw19l008&#x27;, &#x27;ch19l085&#x27;,\n",
       "                                  &#x27;ch19l004&#x27;, &#x27;cr19l042&#x27;, &#x27;cr19l143&#x27;]),\n",
       "                                (&#x27;cat&#x27;,\n",
       "                                 Pipeline(steps=[(&#x27;imputer&#x27;,\n",
       "                                                  SimpleImputer(strategy=&#x27;most_frequent&#x27;)),\n",
       "                                                 (&#x27;encoder&#x27;,\n",
       "                                                  OneHotEncoder(handle_unknown=&#x27;infrequent_if_exist&#x27;,\n",
       "                                                                min_frequency=50))]),\n",
       "                                 [&#x27;geslacht&#x27;, &#x27;positie2019&#x27;, &#x27;aantalhh2019&#x27;,\n",
       "                                  &#x27;aantalki2019&#x27;, &#x27;partner2019&#x27;, &#x27;burgstat2019&#x27;,\n",
       "                                  &#x27;woonvorm2019&#x27;, &#x27;woning2019&#x27;, &#x27;sted2019&#x27;,\n",
       "                                  &#x27;belbezig2019&#x27;, &#x27;oplzon2019&#x27;, &#x27;oplmet2019&#x27;,\n",
       "                                  &#x27;doetmee2019&#x27;, &#x27;herkomstgroep2019&#x27;,\n",
       "                                  &#x27;simpc2019&#x27;])])</pre></div></div></div><div class=\"sk-parallel\"><div class=\"sk-parallel-item\"><div class=\"sk-item\"><div class=\"sk-label-container\"><div class=\"sk-label sk-toggleable\"><input class=\"sk-toggleable__control sk-hidden--visually\" id=\"sk-estimator-id-12\" type=\"checkbox\" ><label for=\"sk-estimator-id-12\" class=\"sk-toggleable__label sk-toggleable__label-arrow\">num</label><div class=\"sk-toggleable__content\"><pre>[&#x27;leeftijd2019&#x27;, &#x27;brutoink_f2019&#x27;, &#x27;netinc2019&#x27;, &#x27;brutohh_f2019&#x27;, &#x27;nettohh_f2019&#x27;, &#x27;cf19l432&#x27;, &#x27;cf19l454&#x27;, &#x27;cw19l001&#x27;, &#x27;cw19l008&#x27;, &#x27;ch19l085&#x27;, &#x27;ch19l004&#x27;, &#x27;cr19l042&#x27;, &#x27;cr19l143&#x27;]</pre></div></div></div><div class=\"sk-serial\"><div class=\"sk-item\"><div class=\"sk-serial\"><div class=\"sk-item\"><div class=\"sk-estimator sk-toggleable\"><input class=\"sk-toggleable__control sk-hidden--visually\" id=\"sk-estimator-id-13\" type=\"checkbox\" ><label for=\"sk-estimator-id-13\" class=\"sk-toggleable__label sk-toggleable__label-arrow\">SimpleImputer</label><div class=\"sk-toggleable__content\"><pre>SimpleImputer()</pre></div></div></div><div class=\"sk-item\"><div class=\"sk-estimator sk-toggleable\"><input class=\"sk-toggleable__control sk-hidden--visually\" id=\"sk-estimator-id-14\" type=\"checkbox\" ><label for=\"sk-estimator-id-14\" class=\"sk-toggleable__label sk-toggleable__label-arrow\">StandardScaler</label><div class=\"sk-toggleable__content\"><pre>StandardScaler()</pre></div></div></div></div></div></div></div></div><div class=\"sk-parallel-item\"><div class=\"sk-item\"><div class=\"sk-label-container\"><div class=\"sk-label sk-toggleable\"><input class=\"sk-toggleable__control sk-hidden--visually\" id=\"sk-estimator-id-15\" type=\"checkbox\" ><label for=\"sk-estimator-id-15\" class=\"sk-toggleable__label sk-toggleable__label-arrow\">cat</label><div class=\"sk-toggleable__content\"><pre>[&#x27;geslacht&#x27;, &#x27;positie2019&#x27;, &#x27;aantalhh2019&#x27;, &#x27;aantalki2019&#x27;, &#x27;partner2019&#x27;, &#x27;burgstat2019&#x27;, &#x27;woonvorm2019&#x27;, &#x27;woning2019&#x27;, &#x27;sted2019&#x27;, &#x27;belbezig2019&#x27;, &#x27;oplzon2019&#x27;, &#x27;oplmet2019&#x27;, &#x27;doetmee2019&#x27;, &#x27;herkomstgroep2019&#x27;, &#x27;simpc2019&#x27;]</pre></div></div></div><div class=\"sk-serial\"><div class=\"sk-item\"><div class=\"sk-serial\"><div class=\"sk-item\"><div class=\"sk-estimator sk-toggleable\"><input class=\"sk-toggleable__control sk-hidden--visually\" id=\"sk-estimator-id-16\" type=\"checkbox\" ><label for=\"sk-estimator-id-16\" class=\"sk-toggleable__label sk-toggleable__label-arrow\">SimpleImputer</label><div class=\"sk-toggleable__content\"><pre>SimpleImputer(strategy=&#x27;most_frequent&#x27;)</pre></div></div></div><div class=\"sk-item\"><div class=\"sk-estimator sk-toggleable\"><input class=\"sk-toggleable__control sk-hidden--visually\" id=\"sk-estimator-id-17\" type=\"checkbox\" ><label for=\"sk-estimator-id-17\" class=\"sk-toggleable__label sk-toggleable__label-arrow\">OneHotEncoder</label><div class=\"sk-toggleable__content\"><pre>OneHotEncoder(handle_unknown=&#x27;infrequent_if_exist&#x27;, min_frequency=50)</pre></div></div></div></div></div></div></div></div></div></div><div class=\"sk-item\"><div class=\"sk-estimator sk-toggleable\"><input class=\"sk-toggleable__control sk-hidden--visually\" id=\"sk-estimator-id-18\" type=\"checkbox\" ><label for=\"sk-estimator-id-18\" class=\"sk-toggleable__label sk-toggleable__label-arrow\">ExtraTreesClassifier</label><div class=\"sk-toggleable__content\"><pre>ExtraTreesClassifier(max_depth=30, n_estimators=800, random_state=345)</pre></div></div></div></div></div></div></div>"
      ],
      "text/plain": [
       "Pipeline(steps=[('preprocess',\n",
       "                 ColumnTransformer(transformers=[('num',\n",
       "                                                  Pipeline(steps=[('imputer',\n",
       "                                                                   SimpleImputer()),\n",
       "                                                                  ('scaler',\n",
       "                                                                   StandardScaler())]),\n",
       "                                                  ['leeftijd2019',\n",
       "                                                   'brutoink_f2019',\n",
       "                                                   'netinc2019',\n",
       "                                                   'brutohh_f2019',\n",
       "                                                   'nettohh_f2019', 'cf19l432',\n",
       "                                                   'cf19l454', 'cw19l001',\n",
       "                                                   'cw19l008', 'ch19l085',\n",
       "                                                   'ch19l004', 'cr19l042',\n",
       "                                                   'cr19l143']),\n",
       "                                                 ('cat',\n",
       "                                                  Pipeline(steps=[('imputer',\n",
       "                                                                   Simpl...\n",
       "                                                                   OneHotEncoder(handle_unknown='infrequent_if_exist',\n",
       "                                                                                 min_frequency=50))]),\n",
       "                                                  ['geslacht', 'positie2019',\n",
       "                                                   'aantalhh2019',\n",
       "                                                   'aantalki2019',\n",
       "                                                   'partner2019',\n",
       "                                                   'burgstat2019',\n",
       "                                                   'woonvorm2019', 'woning2019',\n",
       "                                                   'sted2019', 'belbezig2019',\n",
       "                                                   'oplzon2019', 'oplmet2019',\n",
       "                                                   'doetmee2019',\n",
       "                                                   'herkomstgroep2019',\n",
       "                                                   'simpc2019'])])),\n",
       "                ('classifier',\n",
       "                 ExtraTreesClassifier(max_depth=30, n_estimators=800,\n",
       "                                      random_state=345))])"
      ]
     },
     "execution_count": 46,
     "metadata": {},
     "output_type": "execute_result"
    }
   ],
   "source": [
    "# Define the hyperparameters, this can include several classifiers, but will make it slow\n",
    "# You can see different classifiers here: https://scikit-learn.org/stable/supervised_learning.html#supervised-learnin\n",
    "\n",
    "list_max_depth = [int(x) for x in np.linspace(10, 110, num = 11)]\n",
    "list_max_depth.append(None)\n",
    "\n",
    "parameters = {\n",
    "    \"classifier__n_estimators\": [int(x) for x in np.linspace(start = 200, stop = 2000, num = 10)], \n",
    "    \"classifier__max_depth\": list_max_depth,\n",
    "    'classifier__criterion': ['gini','entropy'],\n",
    "    'classifier__min_samples_leaf': [1, 2, 4],\n",
    "    'classifier__min_samples_split': [2, 5, 10]\n",
    "}\n",
    "\n",
    "# Perform hyperparameter tuning using cross-validation: https://scikit-learn.org/stable/modules/classes.html#hyper-parameter-optimizers\n",
    "grid_search = GridSearchCV(model_3, parameters, cv=3, n_jobs=-1, scoring=\"f1\", verbose=9) #n_jobs=-1 allows for multiprocessing\n",
    "grid_search.fit(X_train, y_train)\n",
    "\n",
    "# Keep best model (or define it from scratch with the best coefficients found)\n",
    "best_model_3 = grid_search.best_estimator_\n",
    "\n",
    "best_model_3"
   ]
  },
  {
   "cell_type": "code",
   "execution_count": 47,
   "id": "4c43addf",
   "metadata": {},
   "outputs": [
    {
     "data": {
      "text/plain": [
       "0.8839779005524862"
      ]
     },
     "execution_count": 47,
     "metadata": {},
     "output_type": "execute_result"
    }
   ],
   "source": [
    "best_model_3.fit(X_train,y_train)\n",
    "best_prediction = best_model_3.predict(X_test)\n",
    "best_model_3.score(X_test,y_test)\n",
    "#0.88"
   ]
  },
  {
   "cell_type": "markdown",
   "id": "b033f207",
   "metadata": {},
   "source": [
    "# Evaluate the model\n",
    "\n",
    "Note: The results below are not for LogisticRegression, are for a different model"
   ]
  },
  {
   "cell_type": "code",
   "execution_count": null,
   "id": "65b52dd7",
   "metadata": {},
   "outputs": [],
   "source": []
  },
  {
   "cell_type": "code",
   "execution_count": null,
   "id": "ef72ef5e",
   "metadata": {},
   "outputs": [],
   "source": [
    "# Print ROC curve, it tells you how well you can balance false and true positives\n",
    "RocCurveDisplay.from_predictions(\n",
    "    y_test,\n",
    "    model_1.predict_proba(X_test)[:, 1],\n",
    "    color=\"cornflowerblue\",\n",
    ")\n",
    "plt.plot([0, 1], [0, 1], \"k--\", label=\"chance level (AUC = 0.5)\")\n",
    "plt.xlabel(\"False Positive Rate\")\n",
    "plt.ylabel(\"True Positive Rate\")\n",
    "plt.legend()\n",
    "plt.show()"
   ]
  },
  {
   "cell_type": "code",
   "execution_count": null,
   "id": "48771051",
   "metadata": {},
   "outputs": [],
   "source": [
    "RocCurveDisplay.from_predictions(\n",
    "    y_test,\n",
    "    model_3.predict_proba(X_test)[:, 1],\n",
    "    color=\"cornflowerblue\",\n",
    ")\n",
    "plt.plot([0, 1], [0, 1], \"k--\", label=\"chance level (AUC = 0.5)\")\n",
    "plt.xlabel(\"False Positive Rate\")\n",
    "plt.ylabel(\"True Positive Rate\")\n",
    "plt.legend()\n",
    "plt.show()"
   ]
  },
  {
   "cell_type": "code",
   "execution_count": null,
   "id": "a9275b68",
   "metadata": {},
   "outputs": [],
   "source": [
    "RocCurveDisplay.from_predictions(\n",
    "    y_test,\n",
    "    best_model_3.predict_proba(X_test)[:, 1],\n",
    "    color=\"cornflowerblue\",\n",
    ")\n",
    "plt.plot([0, 1], [0, 1], \"k--\", label=\"chance level (AUC = 0.5)\")\n",
    "plt.xlabel(\"False Positive Rate\")\n",
    "plt.ylabel(\"True Positive Rate\")\n",
    "plt.legend()\n",
    "plt.show()"
   ]
  },
  {
   "cell_type": "code",
   "execution_count": null,
   "id": "2582cc99",
   "metadata": {},
   "outputs": [],
   "source": [
    "# Create predictions\n",
    "y_pred = best_model_1.predict(X_test)\n",
    "\n",
    "# Report classification table\n",
    "print(classification_report(y_test, y_pred))"
   ]
  },
  {
   "cell_type": "code",
   "execution_count": null,
   "id": "d4691cf8",
   "metadata": {},
   "outputs": [],
   "source": [
    "# Create predictions\n",
    "y_pred = best_model_3.predict(X_test)\n",
    "\n",
    "# Report classification table\n",
    "print(classification_report(y_test, y_pred))"
   ]
  },
  {
   "cell_type": "markdown",
   "id": "d1754323",
   "metadata": {},
   "source": [
    "# Save models "
   ]
  },
  {
   "cell_type": "code",
   "execution_count": null,
   "id": "8a32ee95",
   "metadata": {},
   "outputs": [],
   "source": [
    "import os\n",
    "os.makedirs(\"../models\", exist_ok=True)\n",
    "\n",
    "# Dump model (don't change the name)\n",
    "dump(best_model_1, \"../models/model.joblib\")"
   ]
  },
  {
   "cell_type": "markdown",
   "id": "a3bbe089",
   "metadata": {},
   "source": [
    "# How the submission would look like, "
   ]
  },
  {
   "cell_type": "code",
   "execution_count": null,
   "id": "75380624",
   "metadata": {},
   "outputs": [],
   "source": [
    "def predict_outcomes(df):\n",
    "    \"\"\"Process the input data and write the predictions.\"\"\"\n",
    "\n",
    "    # Keep \n",
    "    keepcols =  ['leeftijd2019',\n",
    "                 'geslacht',\n",
    "                 'positie2019',\n",
    "                 'aantalhh2019',\n",
    "                 'aantalki2019',\n",
    "                 'partner2019',\n",
    "                 'burgstat2019',\n",
    "                 'woonvorm2019',\n",
    "                 'woning2019',\n",
    "                 'sted2019',\n",
    "                 'belbezig2019',\n",
    "                 'brutoink_f2019',\n",
    "                 'netinc2019',\n",
    "                 'brutohh_f2019',\n",
    "                 'nettohh_f2019',\n",
    "                 'oplzon2019',\n",
    "                 'oplmet2019',\n",
    "                 'doetmee2019',\n",
    "                 'herkomstgroep2019',\n",
    "                 'simpc2019',\n",
    "                 'cf19l432',\n",
    "                 'cf19l454',\n",
    "                 'cw19l001',\n",
    "                 'cw19l008',\n",
    "                 'ch19l085',\n",
    "                 'ch19l004',\n",
    "                 'cr19l042',\n",
    "                 'cr19l143']\n",
    "    results = df[[\"nomem_encr\"]]\n",
    "    \n",
    "    df = df.loc[:, keepcols]\n",
    "                            \n",
    "    # Load your trained model from the models directory\n",
    "    model_path = os.path.join(os.path.dirname(__file__), \"..\", \"models\", \"model.joblib\")\n",
    "    model = load(model_path)\n",
    "\n",
    "    # Use your trained model for prediction\n",
    "    results.loc[:, \"prediction\"] = model.predict(df)\n",
    "\n",
    "    #If you use predict_proba to get a probability and a different threshold\n",
    "    #df[\"prediction\"] = (df[\"prediction\"] >= 0.5).astype(int)\n",
    "    return results"
   ]
  },
  {
   "cell_type": "code",
   "execution_count": null,
   "id": "43dd68e8",
   "metadata": {},
   "outputs": [],
   "source": [
    "__file__ = \"./\"\n",
    "predict_outcomes(original_data)"
   ]
  },
  {
   "cell_type": "code",
   "execution_count": null,
   "id": "649f962e",
   "metadata": {},
   "outputs": [],
   "source": [
    "__file__ = './' #this is not needed outside juypter notebooks\n",
    "predict_outcomes(original_data)"
   ]
  },
  {
   "cell_type": "markdown",
   "id": "8556b257",
   "metadata": {},
   "source": [
    "# Interpretable AI\n",
    "\n",
    "Note: Again, the result below are not for the LogisticRegression\n",
    "\n",
    "There are other methods \n",
    "    - tree-based models have an argument \"best_model.feature_importances_\"\n",
    "    - Other libraries: shap, lime, eli5\n",
    "    - Other plots, such as partial dependence plots: https://scikit-learn.org/stable/auto_examples/inspection/plot_partial_dependence.html#sphx-glr-auto-examples-inspection-plot-partial-dependence-py"
   ]
  },
  {
   "cell_type": "code",
   "execution_count": null,
   "id": "7e2efdf3",
   "metadata": {},
   "outputs": [],
   "source": [
    "from sklearn.inspection import permutation_importance\n",
    "\n",
    "def print_sorted_importance(importances, columns, codebook=None):\n",
    "    for imp, var in sorted(zip(importances, columns))[::-1]:\n",
    "        if codebook is not None:\n",
    "            print(f\"{imp:2.3f}: {codebook[var]:50.50s}\")\n",
    "        else:\n",
    "            print(f\"{imp:2.3f}: {var:50.50s}\")\n",
    "        \n",
    "r = permutation_importance(best_model_1, X_test, y_test,\n",
    "                            n_repeats=100,\n",
    "                            random_state=0)\n",
    "\n",
    "print_sorted_importance(r[\"importances_mean\"], X_test.columns)"
   ]
  },
  {
   "cell_type": "code",
   "execution_count": null,
   "id": "a7e94a8e",
   "metadata": {},
   "outputs": [],
   "source": [
    "sorted(list(zip(best_model_1[\"classifier\"].coef_[0], best_model_1[\"preprocess\"].get_feature_names_out())))"
   ]
  }
 ],
 "metadata": {
  "kernelspec": {
   "display_name": "Python 3 (ipykernel)",
   "language": "python",
   "name": "python3"
  },
  "language_info": {
   "codemirror_mode": {
    "name": "ipython",
    "version": 3
   },
   "file_extension": ".py",
   "mimetype": "text/x-python",
   "name": "python",
   "nbconvert_exporter": "python",
   "pygments_lexer": "ipython3",
   "version": "3.11.3"
  }
 },
 "nbformat": 4,
 "nbformat_minor": 5
}
